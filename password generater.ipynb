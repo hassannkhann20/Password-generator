{
 "cells": [
  {
   "cell_type": "code",
   "execution_count": 5,
   "id": "972de9fd-62dd-48cc-b463-f5e174bf4791",
   "metadata": {},
   "outputs": [
    {
     "name": "stdout",
     "output_type": "stream",
     "text": [
      "welcome to the password generater!\n"
     ]
    },
    {
     "name": "stdin",
     "output_type": "stream",
     "text": [
      "enter the number of letters\n",
      " 3\n",
      "enter the number of symbols\n",
      " 3\n",
      "enter the number of numbers\n",
      " 6\n"
     ]
    },
    {
     "name": "stdout",
     "output_type": "stream",
     "text": [
      "your randomly generated password is:1148y%4%,7aZ\n"
     ]
    }
   ],
   "source": [
    "import random\n",
    "letters = [\"a\", \"b\", \"c\", \"d\", \"d\", \"e\", \"f\", \"g\", \"h\", \"i\", \"j\", \"k\", \"l\", \"m\", \"n\", \"o\", \"p\", \"q\", \"r\", \"s\", \"u\", \"v\", \"w\", \"x\", \"y\", \"z\"\n",
    "          \"A\", \"B\", \"C\", \"D\", \"E\", \"F\", \"G\", \"H\", \"I\", \"J\", \"K\", \"L\", \"M\", \"N\", \"O\", \"P\", \"Q\", \"R\", \"S\", \"T\", \"U\", \"V\", \"W\", \"X\", \"Y\",\"Z\"] \n",
    "\n",
    "numbers = [ \"1\", \"2\", \"3\", \"4\", \"5\", \"6\", \"7\", \"8\", \"9\", \"0\",]\n",
    "\n",
    "symbols = [\"!\", \"@\", \"#\", \"$\", \"%\", \",\", \"&\", \"*\", \"+\"]\n",
    "\n",
    "print (\"welcome to the password generater!\")\n",
    "\n",
    "no_letters = int(input(\"enter the number of letters\\n\"))\n",
    "no_symbols = int(input(\"enter the number of symbols\\n\"))\n",
    "no_numbers = int(input(\"enter the number of numbers\\n\"))\n",
    " \n",
    "pass_list = []\n",
    "\n",
    "for char in range(0,no_letters):\n",
    "    pass_list.append(random.choice(letters))\n",
    "\n",
    "for char in range(0,no_symbols):\n",
    "    pass_list.append(random.choice(symbols))\n",
    "\n",
    "for char in range(0,no_numbers):\n",
    "    pass_list.append(random.choice(numbers))\n",
    "\n",
    "random.shuffle(pass_list)\n",
    "password=\"\"\n",
    "for i in pass_list:\n",
    "    password +=i\n",
    "print(f\"your randomly generated password is:{password}\")\n",
    "\n",
    "\n"
   ]
  },
  {
   "cell_type": "code",
   "execution_count": null,
   "id": "6210954e-f23d-4ea2-9766-4ee65011fc51",
   "metadata": {},
   "outputs": [],
   "source": []
  },
  {
   "cell_type": "code",
   "execution_count": null,
   "id": "a56402c3-9147-4a5c-8c44-8602be39263c",
   "metadata": {},
   "outputs": [],
   "source": []
  }
 ],
 "metadata": {
  "kernelspec": {
   "display_name": "Python 3 (ipykernel)",
   "language": "python",
   "name": "python3"
  },
  "language_info": {
   "codemirror_mode": {
    "name": "ipython",
    "version": 3
   },
   "file_extension": ".py",
   "mimetype": "text/x-python",
   "name": "python",
   "nbconvert_exporter": "python",
   "pygments_lexer": "ipython3",
   "version": "3.12.7"
  }
 },
 "nbformat": 4,
 "nbformat_minor": 5
}
